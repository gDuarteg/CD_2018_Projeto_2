{
 "cells": [
  {
   "cell_type": "markdown",
   "metadata": {},
   "source": [
    "# Projeto 2 - Classificador Automático de Sentimento\n",
    "\n",
    "Você foi contratado por uma empresa parar analisar como os clientes estão reagindo a um determinado produto no Twitter. A empresa deseja que você crie um programa que irá analisar as mensagens disponíveis e classificará como \"relevante\" ou \"irrelevante\". Com isso ela deseja que mensagens negativas, que denigrem o nome do produto, ou que mereçam destaque, disparem um foco de atenção da área de marketing.<br /><br />\n",
    "Como aluno de Ciência dos Dados, você lembrou do Teorema de Bayes, mais especificamente do Classificador Naive-Bayes, que é largamente utilizado em filtros anti-spam de e-mails. O classificador permite calcular qual a probabilidade de uma mensagem ser relevante dadas as palavras em seu conteúdo.<br /><br />\n",
    "Para realizar o MVP (*minimum viable product*) do projeto, você precisa implementar uma versão do classificador que \"aprende\" o que é relevante com uma base de treinamento e compara a performance dos resultados com uma base de testes.<br /><br />\n",
    "Após validado, o seu protótipo poderá também capturar e classificar automaticamente as mensagens da plataforma.\n",
    "\n",
    "## Informações do Projeto\n",
    "\n",
    "Prazo: 19/Set até às 23:59.<br />\n",
    "Grupo: 2 ou 3 pessoas - grupos com 3 pessoas terá uma rubrica diferenciada.<br /><br />\n",
    "Entregáveis via GitHub: \n",
    "* Arquivo notebook com o código do classificador, seguindo as orientações abaixo.\n",
    "* Arquivo Excel com as bases de treinamento e teste totalmente classificado.\n",
    "\n",
    "**NÃO gravar a key do professor no arquivo**\n",
    "\n",
    "\n",
    "### Entrega Intermediária: Check 1 - APS 2\n",
    "\n",
    "Até o dia 10/Set às 23:59, xlsx deve estar no Github com as seguintes evidências: \n",
    "\n",
    "  * Produto escolhido.\n",
    "  * Arquivo Excel contendo a base de treinamento e a base de testes já classificadas.\n",
    "\n",
    "Sugestão de leitura:<br />\n",
    "https://monkeylearn.com/blog/practical-explanation-naive-bayes-classifier/"
   ]
  },
  {
   "cell_type": "markdown",
   "metadata": {},
   "source": [
    "___\n",
    "\n",
    "## Parte I - Adquirindo a Base de Dados\n",
    "\n",
    "Acessar o notebook **Projeto-2-Planilha** para realizar a coleta dos dados. O grupo deve classificar os dados coletados manualmente."
   ]
  },
  {
   "cell_type": "markdown",
   "metadata": {},
   "source": [
    "___\n",
    "## Parte II - Montando o Classificador Naive-Bayes\n",
    "\n",
    "Com a base de treinamento montada, comece a desenvolver o classificador. Não se esqueça de implementar o Laplace Smoothing (https://en.wikipedia.org/wiki/Laplace_smoothing).\n",
    "\n",
    "Opcionalmente: \n",
    "* Limpar as mensagens removendo os caracteres: enter, :, \", ', (, ), etc. Não remover emojis.<br />\n",
    "* Corrigir separação de espaços entre palavras e/ou emojis.\n",
    "* Propor outras limpezas/transformações que não afetem a qualidade da informação.\n",
    "\n",
    "Escreva o seu código abaixo:"
   ]
  },
  {
   "cell_type": "markdown",
   "metadata": {},
   "source": [
    "# Big Mac - McDonald's\n",
    "\n",
    "    "
   ]
  },
  {
   "cell_type": "code",
   "execution_count": 47,
   "metadata": {
    "scrolled": true
   },
   "outputs": [],
   "source": [
    "import pandas as pd\n",
    "import matplotlib.pyplot as plt\n",
    "import numpy as np"
   ]
  },
  {
   "cell_type": "code",
   "execution_count": 85,
   "metadata": {
    "scrolled": true
   },
   "outputs": [
    {
     "data": {
      "text/html": [
       "<div>\n",
       "<style scoped>\n",
       "    .dataframe tbody tr th:only-of-type {\n",
       "        vertical-align: middle;\n",
       "    }\n",
       "\n",
       "    .dataframe tbody tr th {\n",
       "        vertical-align: top;\n",
       "    }\n",
       "\n",
       "    .dataframe thead th {\n",
       "        text-align: right;\n",
       "    }\n",
       "</style>\n",
       "<table border=\"1\" class=\"dataframe\">\n",
       "  <thead>\n",
       "    <tr style=\"text-align: right;\">\n",
       "      <th></th>\n",
       "      <th>Treinamento</th>\n",
       "      <th>Classificacao</th>\n",
       "    </tr>\n",
       "  </thead>\n",
       "  <tbody>\n",
       "    <tr>\n",
       "      <th>0</th>\n",
       "      <td>@whiskeyredbruno fds.......... estava bue a co...</td>\n",
       "      <td>1</td>\n",
       "    </tr>\n",
       "    <tr>\n",
       "      <th>1</th>\n",
       "      <td>what e o big mac que já existe há 15 anos fds</td>\n",
       "      <td>1</td>\n",
       "    </tr>\n",
       "    <tr>\n",
       "      <th>4</th>\n",
       "      <td>@bloodymaminha ao menos não foi o \"mac\"donald´...</td>\n",
       "      <td>1</td>\n",
       "    </tr>\n",
       "    <tr>\n",
       "      <th>6</th>\n",
       "      <td>na espera do meu big mac ❤️🤰🏻</td>\n",
       "      <td>1</td>\n",
       "    </tr>\n",
       "    <tr>\n",
       "      <th>7</th>\n",
       "      <td>fiquei tão bem com o big mac bacon que já nem ...</td>\n",
       "      <td>1</td>\n",
       "    </tr>\n",
       "  </tbody>\n",
       "</table>\n",
       "</div>"
      ],
      "text/plain": [
       "                                         Treinamento  Classificacao\n",
       "0  @whiskeyredbruno fds.......... estava bue a co...              1\n",
       "1      what e o big mac que já existe há 15 anos fds              1\n",
       "4  @bloodymaminha ao menos não foi o \"mac\"donald´...              1\n",
       "6                      na espera do meu big mac ❤️🤰🏻              1\n",
       "7  fiquei tão bem com o big mac bacon que já nem ...              1"
      ]
     },
     "execution_count": 85,
     "metadata": {},
     "output_type": "execute_result"
    }
   ],
   "source": [
    "# Abrindo arquivos\n",
    "base = pd.read_excel('tweets_bigmac.xlsx')\n",
    "teste = pd.read_excel('tweets_bigmac.xlsx','Teste')\n",
    "\n",
    "sim = base[base.Classificacao == 1]\n",
    "nao = base[base.Classificacao == 0]\n",
    "sim.head()"
   ]
  },
  {
   "cell_type": "code",
   "execution_count": 223,
   "metadata": {},
   "outputs": [],
   "source": [
    "# Filtro para DataFrame\n",
    "def filtro(tweets,nome):\n",
    "    limpo = []\n",
    "    eliminar = ['/',':','\\n','\"',\"'\",')','(',';','#','//','.',',','?','!','...','_','*','rt','|','`']\n",
    "    for li in tweets[nome]:\n",
    "        linha = li.lower()\n",
    "        for erro in eliminar:\n",
    "            linha = linha.replace(erro,'')\n",
    "        limpo.append(linha)\n",
    "    return limpo\n",
    "\n",
    "base_sim = filtro(sim,'Treinamento')\n",
    "base_nao = filtro(nao,'Treinamento')"
   ]
  },
  {
   "cell_type": "code",
   "execution_count": 179,
   "metadata": {},
   "outputs": [],
   "source": [
    "# Filtro para uma linha\n",
    "def filtro_linha(tweetsx):\n",
    "    limp = []\n",
    "    eliminar = ['/',':','\\n','\"',\"'\",')','(',';','#','//','.',',','?','!','...','_','*','rt','|','`']\n",
    "    linha = tweetsx.lower()\n",
    "    for erro in eliminar:\n",
    "        linha = linha.replace(erro,'')\n",
    "    limp.append(linha)\n",
    "    return limp"
   ]
  },
  {
   "cell_type": "code",
   "execution_count": 194,
   "metadata": {},
   "outputs": [],
   "source": [
    "# SPLIT frases\n",
    "\n",
    "def splitador(linha_do_data):\n",
    "    juntas = linha_do_data.split(' ')\n",
    "    for p in juntas:\n",
    "        if '@' in p or 'http' in p or p == '':\n",
    "            juntas.remove(p)\n",
    "    return juntas"
   ]
  },
  {
   "cell_type": "code",
   "execution_count": 221,
   "metadata": {},
   "outputs": [
    {
     "data": {
      "text/html": [
       "<div>\n",
       "<style scoped>\n",
       "    .dataframe tbody tr th:only-of-type {\n",
       "        vertical-align: middle;\n",
       "    }\n",
       "\n",
       "    .dataframe tbody tr th {\n",
       "        vertical-align: top;\n",
       "    }\n",
       "\n",
       "    .dataframe thead th {\n",
       "        text-align: right;\n",
       "    }\n",
       "</style>\n",
       "<table border=\"1\" class=\"dataframe\">\n",
       "  <thead>\n",
       "    <tr style=\"text-align: right;\">\n",
       "      <th></th>\n",
       "      <th>index</th>\n",
       "      <th>quantidade</th>\n",
       "    </tr>\n",
       "  </thead>\n",
       "  <tbody>\n",
       "    <tr>\n",
       "      <th>0</th>\n",
       "      <td>mac</td>\n",
       "      <td>233</td>\n",
       "    </tr>\n",
       "    <tr>\n",
       "      <th>1</th>\n",
       "      <td>big</td>\n",
       "      <td>233</td>\n",
       "    </tr>\n",
       "    <tr>\n",
       "      <th>2</th>\n",
       "      <td>um</td>\n",
       "      <td>156</td>\n",
       "    </tr>\n",
       "  </tbody>\n",
       "</table>\n",
       "</div>"
      ],
      "text/plain": [
       "  index  quantidade\n",
       "0   mac         233\n",
       "1   big         233\n",
       "2    um         156"
      ]
     },
     "execution_count": 221,
     "metadata": {},
     "output_type": "execute_result"
    }
   ],
   "source": [
    "# Organiza\n",
    "def contador(base_sim_e_nao):\n",
    "    listao =[]\n",
    "    for e in base_sim_e_nao:\n",
    "        spl = splitador(e)\n",
    "        for u in spl:\n",
    "            listao.append(u)\n",
    "    return listao\n",
    "\n",
    "treino_sim = contador(base_sim)\n",
    "ts = pd.DataFrame({'palavras':treino_sim})\n",
    "ts1 = ts['palavras'].value_counts()\n",
    "\n",
    "treino_nao = contador(base_nao)\n",
    "tn = pd.DataFrame({'palavras':treino_nao})\n",
    "tn1 = tn['palavras'].value_counts()\n",
    "\n",
    "bs1 = pd.DataFrame({'quantidade':ts1}).reset_index()\n",
    "bn1 = pd.DataFrame({'quantidade':tn1}).reset_index()\n",
    "\n",
    "bs1.head(3)"
   ]
  },
  {
   "cell_type": "code",
   "execution_count": 182,
   "metadata": {},
   "outputs": [],
   "source": [
    "# calcula probabilidade de cada palavra ser relevante ou irrelevante\n",
    "\n",
    "def prob_palavra(bsn,n_sn,total_palavras):\n",
    "    bsn['probabilidade'] = ''\n",
    "    for i in range(len(bsn)):\n",
    "        bsn['probabilidade'][i] = ((bsn['quantidade'][i])+1) / (n_sn * total_palavras)\n",
    "    return bsn\n",
    "\n",
    "n_total = len(treino_sim)+len(treino_nao)\n",
    "prob_rel = len(treino_sim) / n_total\n",
    "prob_irel = len(treino_nao) / n_total"
   ]
  },
  {
   "cell_type": "code",
   "execution_count": 219,
   "metadata": {},
   "outputs": [
    {
     "name": "stderr",
     "output_type": "stream",
     "text": [
      "C:\\Users\\Duarte\\Anaconda3\\lib\\site-packages\\ipykernel_launcher.py:6: SettingWithCopyWarning: \n",
      "A value is trying to be set on a copy of a slice from a DataFrame\n",
      "\n",
      "See the caveats in the documentation: http://pandas.pydata.org/pandas-docs/stable/indexing.html#indexing-view-versus-copy\n",
      "  \n"
     ]
    },
    {
     "data": {
      "text/html": [
       "<div>\n",
       "<style scoped>\n",
       "    .dataframe tbody tr th:only-of-type {\n",
       "        vertical-align: middle;\n",
       "    }\n",
       "\n",
       "    .dataframe tbody tr th {\n",
       "        vertical-align: top;\n",
       "    }\n",
       "\n",
       "    .dataframe thead th {\n",
       "        text-align: right;\n",
       "    }\n",
       "</style>\n",
       "<table border=\"1\" class=\"dataframe\">\n",
       "  <thead>\n",
       "    <tr style=\"text-align: right;\">\n",
       "      <th></th>\n",
       "      <th>index</th>\n",
       "      <th>quantidade</th>\n",
       "      <th>probabilidade</th>\n",
       "    </tr>\n",
       "  </thead>\n",
       "  <tbody>\n",
       "    <tr>\n",
       "      <th>0</th>\n",
       "      <td>big</td>\n",
       "      <td>233</td>\n",
       "      <td>2.05442e-05</td>\n",
       "    </tr>\n",
       "    <tr>\n",
       "      <th>1</th>\n",
       "      <td>mac</td>\n",
       "      <td>233</td>\n",
       "      <td>2.05442e-05</td>\n",
       "    </tr>\n",
       "    <tr>\n",
       "      <th>2</th>\n",
       "      <td>um</td>\n",
       "      <td>156</td>\n",
       "      <td>1.37839e-05</td>\n",
       "    </tr>\n",
       "  </tbody>\n",
       "</table>\n",
       "</div>"
      ],
      "text/plain": [
       "  index  quantidade probabilidade\n",
       "0   big         233   2.05442e-05\n",
       "1   mac         233   2.05442e-05\n",
       "2    um         156   1.37839e-05"
      ]
     },
     "execution_count": 219,
     "metadata": {},
     "output_type": "execute_result"
    }
   ],
   "source": [
    "bs2 = prob_palavra(bs1,len(treino_sim),n_total)\n",
    "bn2 = prob_palavra(bn1,len(treino_nao),n_total)\n",
    "bs2.head(3)"
   ]
  },
  {
   "cell_type": "code",
   "execution_count": 201,
   "metadata": {},
   "outputs": [],
   "source": [
    "# calcula probabilidade de uma frase ou tweet ser relevante ou irrelevante\n",
    "\n",
    "def calcular_frase(f, base_sn, probabilidade_de_ser_relevante_ou_irrelevante):\n",
    "    frase = filtro_linha(f)\n",
    "    frase_dividida = splitador(frase[0])\n",
    "    mult = [probabilidade_de_ser_relevante_ou_irrelevante] # multiplicara cada item dessa lista para saber a prob da frase\n",
    "    ind = 0\n",
    "    for palavra in frase_dividida:\n",
    "        for tabela in base_sn['index']:\n",
    "            if palavra == tabela:\n",
    "                mult.append(base_sn['probabilidade'][ind])\n",
    "        ind +=1\n",
    "    res = 1\n",
    "    for y in mult:\n",
    "        res = res*y\n",
    "    return res"
   ]
  },
  {
   "cell_type": "code",
   "execution_count": 227,
   "metadata": {},
   "outputs": [
    {
     "name": "stdout",
     "output_type": "stream",
     "text": [
      "                                                Tweets  classificador  manual\n",
      "0    rt @joyce_188: dia 10 de novembro vou ganhar u...              0       0\n",
      "1    rt @matusfuck: big mac é o pior, gd nojo https...              1       1\n",
      "2    @anagonzaga15 agora tem um muito melhor, big m...              1       1\n",
      "3    rt @portalstylinson: \"louis, nós ouvimos dizer...              1       0\n",
      "4      que fome, alguém por obséquio me dá um big mac?              0       1\n",
      "5    nesses 3 dias o máximo que eu comi foi um mioj...              0       1\n",
      "6    dois big mac,um milk-shake,uber,uma água de um...              0       0\n",
      "7    sou estudante em penafiel, no entanto fui ao m...              0       1\n",
      "8    vou comer um pão com manteiga imaginando um bi...              0       1\n",
      "9    mano eu juro q acabei de fazer um sanduba com ...              0       0\n",
      "10                    big mac não decepciona nuuuuunca              1       1\n",
      "11              amassei um big mac e ainda to com fome              0       1\n",
      "12                              mandei vim o big mac 🤗              1       1\n",
      "13   gente eu to só o meu tio que foi principe de 1...              1       0\n",
      "14   @gabrielzanucci me da um big mac q vc terá ess...              1       0\n",
      "15   @mfaria_ um grande big mac com um ganda chocol...              0       0\n",
      "16   rt @citeibrisas: \"assim como no cigarro, dever...              0       1\n",
      "17   caralho, big sean dizendo que o mac mandou uma...              1       0\n",
      "18   eish, o mac miller. big mac, como nós, os amig...              1       0\n",
      "19                     era só um big mac na minha vida              1       1\n",
      "20   big mac\\nmeu protegido e amado claro que pode ...              1       1\n",
      "21   rt @citeibrisas: \"assim como no cigarro, dever...              0       0\n",
      "22    pelo menos eu vou ganhar um big mac.............              0       1\n",
      "23   nessas horas eu só queria um namoradinho pra m...              0       1\n",
      "24                         o big mac bacon é uma merda              1       1\n",
      "25   o big mac bacon é melhor que o original\\naprov...              1       1\n",
      "26   rt @anagonzaga15: apetece me tanto um big mac ...              0       1\n",
      "27                      tiaguenta, o big mac do acre 🍔              0       1\n",
      "28   rt @saraaa_m8: dava tudo por um big mac neste ...              0       1\n",
      "29   comidinha de rico. prefiro comer um big mac ht...              0       1\n",
      "..                                                 ...            ...     ...\n",
      "170  rt @dcotrim: o mac miller é capaz de ser o úni...              1       0\n",
      "171                      vovó patrocinou o big mac 🍟🍔🥤              1       1\n",
      "172  juro-vos, se o big king tivesse o molho do big...              0       1\n",
      "173  rt @criarteoficial: embalagens comemorativas p...              0       1\n",
      "174  rt @ypsilow: o cara prega ódio, achou q ia gan...              0       1\n",
      "175  @caioraulien @gustavosampaio0 apesar de que eu...              0       1\n",
      "176  rt @anagonzaga15: apetece me tanto um big mac ...              0       1\n",
      "177  hoje eu acordei com uma lombriga de big mac co...              0       1\n",
      "178                       um big mac salva minha noite              0       1\n",
      "179  @_fiavio_ ainda quero ver esse rodrigo prepara...              0       1\n",
      "180  rt @beingasaloser: juro-vos, se o big king tiv...              0       1\n",
      "181  fui ao mac ainda á pouco e enfardei as batatas...              0       1\n",
      "182  rt @filipabros: quem come big mac com pepino n...              0       1\n",
      "183                       quero almoçar um big mac tbm              1       1\n",
      "184  qm me pergunta qualquer coisa eu pago um big m...              1       1\n",
      "185  meu café da manhã está sendo um big mac, bom d...              0       1\n",
      "186  fui no shopping c o breno,comi um big mac e dp...              0       1\n",
      "187  rt @citeibrisas: \"assim como no cigarro, dever...              0       1\n",
      "188  epá, vamos lá esclarecer uma coisa que estou c...              0       1\n",
      "189  rt @vidahumanas: \"assim como no cigarro, dever...              0       1\n",
      "190  rt @crfnabru: @vit_oops1dl “2 boizinhos morrer...              0       0\n",
      "191                        queria tanto um big mac agr              1       1\n",
      "192  rt @brothernero: resultado:    colocado\\ninsti...              1       0\n",
      "193  rt @citeibrisas: \"assim como no cigarro, dever...              0       1\n",
      "194  rt @greysanatombei: comi um big mac ontem e um...              0       1\n",
      "195  eu transformei a briga de um sorvete de big ma...              0       1\n",
      "196         eu acabei d ganhar um big mac \\nfeliz dmai              1       1\n",
      "197  rt @citeibrisas: \"assim como no cigarro, dever...              0       1\n",
      "198                            queria tanto um big mac              1       1\n",
      "199  rt @saraaa_m8: dava tudo por um big mac neste ...              0       1\n",
      "\n",
      "[200 rows x 3 columns]\n"
     ]
    }
   ],
   "source": [
    "# Classifica e coloca em um dataframe junto com os classificados manualmente\n",
    "\n",
    "def classifica(dataFrame,coluna):\n",
    "    resposta = []\n",
    "    tweet_original = dataFrame[coluna]\n",
    "    for linha in dataFrame[coluna]:\n",
    "        \n",
    "        R = calcular_frase(linha,bs2,prob_rel)\n",
    "        I = calcular_frase(linha,bn2,prob_irel)\n",
    "        if R>I:\n",
    "            resposta.append(1)\n",
    "        elif R<I:\n",
    "            resposta.append(0)\n",
    "\n",
    "    ans = pd.DataFrame({'Tweets':tweet_original})\n",
    "    ans['classificador'] = resposta\n",
    "    ans['manual'] = dataFrame.Classificacao\n",
    "    return ans\n",
    "\n",
    "r = classifica(teste,'Teste')\n",
    "print(r)\n"
   ]
  },
  {
   "cell_type": "markdown",
   "metadata": {},
   "source": [
    "___\n",
    "## Verificando a performance\n",
    "\n",
    "Agora você deve testar o seu Classificador com a base de Testes.<br /><br /> \n",
    "\n",
    "Você deve extrair as seguintes medidas:\n",
    "* Porcentagem de positivos falsos (marcados como relevante mas não são relevantes)\n",
    "* Porcentagem de positivos verdadeiros (marcado como relevante e são relevantes)\n",
    "* Porcentagem de negativos verdadeiros (marcado como não relevante e não são relevantes)\n",
    "* Porcentagem de negativos falsos (marcado como não relevante e são relevantes)\n",
    "\n",
    "Obrigatório para grupos de 3 alunos:\n",
    "* Criar categorias intermediárias de relevância baseado na diferença de probabilidades. Exemplo: muito relevante, relevante, neutro, irrelevante e muito irrelevante."
   ]
  },
  {
   "cell_type": "code",
   "execution_count": 229,
   "metadata": {
    "scrolled": true
   },
   "outputs": [
    {
     "name": "stdout",
     "output_type": "stream",
     "text": [
      "O classificador acertou no total 43.0 %\n",
      " \n",
      "Porcentagem de positivos falsos 12.5 %\n",
      "Porcentagem de positivos verdadeiros 32.5 %\n",
      "Porcentagem de negativos verdadeiros 10.5 %\n",
      "Porcentagem de negativos falsos 44.5 %\n"
     ]
    }
   ],
   "source": [
    "# Verificando\n",
    "positivos_falsos = 0\n",
    "positivos_verdadeiros = 0\n",
    "negativos_verdadeiros = 0\n",
    "negativos_falsos = 0\n",
    "\n",
    "for t in range(len(r)):\n",
    "    comp = (r['classificador'][t],r['manual'][t])\n",
    "    if comp == (1,0):\n",
    "        positivos_falsos += 1\n",
    "    elif comp == (1,1):\n",
    "        positivos_verdadeiros += 1\n",
    "    elif comp == (0,0):\n",
    "        negativos_verdadeiros += 1 \n",
    "    elif comp == (0,1):\n",
    "        negativos_falsos += 1 \n",
    "\n",
    "PF = 100*positivos_falsos /len(r)\n",
    "PV = 100*positivos_verdadeiros /len(r)\n",
    "NV = 100*negativos_verdadeiros / len(r)\n",
    "NF = 100*negativos_falsos / len(r)\n",
    "\n",
    "print('O classificador acertou no total',PV+NV,'%')\n",
    "print(' ')\n",
    "print('Porcentagem de positivos falsos',PF,'%')\n",
    "print('Porcentagem de positivos verdadeiros',PV,'%')\n",
    "print('Porcentagem de negativos verdadeiros',NV,'%')\n",
    "print('Porcentagem de negativos falsos',NF,'%')"
   ]
  },
  {
   "cell_type": "markdown",
   "metadata": {},
   "source": [
    "___\n",
    "## Concluindo\n",
    "\n",
    "Escreva aqui a sua conclusão.<br /> \n",
    "Faça um comparativo qualitativo sobre as medidas obtidas.<br />\n",
    "Explique como são tratadas as mensagens com dupla negação e sarcasmo.<br />\n",
    "Proponha um plano de expansão. Por que eles devem continuar financiando o seu projeto?<br />\n",
    "\n",
    "Opcionalmente: \n",
    "* Discorrer por que não posso alimentar minha base de Treinamento automaticamente usando o próprio classificador, aplicado a novos tweets.\n",
    "* Propor diferentes cenários de uso para o classificador Naive-Bayes. Cenários sem intersecção com este projeto.\n",
    "* Sugerir e explicar melhorias reais no classificador com indicações concretas de como implementar (não é preciso codificar, mas indicar como fazer e material de pesquisa sobre o assunto).\n"
   ]
  },
  {
   "cell_type": "markdown",
   "metadata": {},
   "source": [
    "# Conclusão\n"
   ]
  },
  {
   "cell_type": "markdown",
   "metadata": {},
   "source": [
    "    Olhando para nossos resultados podemos observar que o algoritmo mesmo não tendo uma tendência tão grande a classificar mais vezes irrelevante do que relevante, a qualidade das suas classificações deixa a desejar, errando mais vezes quando decide que é irrelevante, esse efeito deve ter sido resultado de tweets que não tinham relevância terem conteúdos mais dispersos, enquanto os considerados relevantes convergem para um padrão mais ligado com o tema. Outro efeito que o classificador deve ter sofrido foi a divergência na classificação, onde um membro do grupo decidiu quais tweets seriam relevantes no treinamento e outro para o teste.\n",
    "    Não foi implementado um sistema capas de analisar duplas negações e sarcasmo tendo em vista que o projeto por enquanto só classifique como relevante e irrelevante, e essas duas percepções fazem mais sentido se existisse subcategorias mais especificas, sendo as próximas iterações.\n",
    "    \n",
    "\n",
    "\n"
   ]
  },
  {
   "cell_type": "code",
   "execution_count": null,
   "metadata": {},
   "outputs": [],
   "source": []
  }
 ],
 "metadata": {
  "kernelspec": {
   "display_name": "Python 3",
   "language": "python",
   "name": "python3"
  },
  "language_info": {
   "codemirror_mode": {
    "name": "ipython",
    "version": 3
   },
   "file_extension": ".py",
   "mimetype": "text/x-python",
   "name": "python",
   "nbconvert_exporter": "python",
   "pygments_lexer": "ipython3",
   "version": "3.6.4"
  }
 },
 "nbformat": 4,
 "nbformat_minor": 2
}
